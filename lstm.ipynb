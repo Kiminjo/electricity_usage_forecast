{
  "nbformat": 4,
  "nbformat_minor": 0,
  "metadata": {
    "kernelspec": {
      "display_name": "Python 3",
      "language": "python",
      "name": "python3"
    },
    "language_info": {
      "codemirror_mode": {
        "name": "ipython",
        "version": 3
      },
      "file_extension": ".py",
      "mimetype": "text/x-python",
      "name": "python",
      "nbconvert_exporter": "python",
      "pygments_lexer": "ipython3",
      "version": "3.8.2"
    },
    "colab": {
      "name": "lstm.ipynb",
      "provenance": []
    },
    "accelerator": "GPU"
  },
  "cells": [
    {
      "cell_type": "code",
      "metadata": {
        "id": "81h4JH_8NSXO",
        "colab_type": "code",
        "colab": {
          "base_uri": "https://localhost:8080/",
          "height": 122
        },
        "outputId": "d5b16c0e-e5ba-4d73-b6b9-930ed076ce28"
      },
      "source": [
        "from google.colab import drive\n",
        "import os\n",
        "drive.mount('/content/gdrive')"
      ],
      "execution_count": 1,
      "outputs": [
        {
          "output_type": "stream",
          "text": [
            "Go to this URL in a browser: https://accounts.google.com/o/oauth2/auth?client_id=947318989803-6bn6qk8qdgf4n4g3pfee6491hc0brc4i.apps.googleusercontent.com&redirect_uri=urn%3aietf%3awg%3aoauth%3a2.0%3aoob&response_type=code&scope=email%20https%3a%2f%2fwww.googleapis.com%2fauth%2fdocs.test%20https%3a%2f%2fwww.googleapis.com%2fauth%2fdrive%20https%3a%2f%2fwww.googleapis.com%2fauth%2fdrive.photos.readonly%20https%3a%2f%2fwww.googleapis.com%2fauth%2fpeopleapi.readonly\n",
            "\n",
            "Enter your authorization code:\n",
            "··········\n",
            "Mounted at /content/gdrive\n"
          ],
          "name": "stdout"
        }
      ]
    },
    {
      "cell_type": "code",
      "metadata": {
        "id": "GKM4uUr3OFLV",
        "colab_type": "code",
        "colab": {}
      },
      "source": [
        "os.chdir('gdrive/My Drive/electricity_usage_forecast/')"
      ],
      "execution_count": 0,
      "outputs": []
    },
    {
      "cell_type": "code",
      "metadata": {
        "id": "6ad71Np8NROx",
        "colab_type": "code",
        "colab": {
          "base_uri": "https://localhost:8080/",
          "height": 34
        },
        "outputId": "d684fff4-d4b6-4a05-e20b-11b665447da6"
      },
      "source": [
        "import pandas as pd\n",
        "import numpy as np\n",
        "import matplotlib.pyplot as plt\n",
        "from keras.models import Sequential\n",
        "from keras.layers import LSTM, Dropout, Dense, Activation\n",
        "# from keras.callbacks import TensorBoard, ModelCheckpoint, ReduceLROnPlateau\n",
        "import datetime"
      ],
      "execution_count": 3,
      "outputs": [
        {
          "output_type": "stream",
          "text": [
            "Using TensorFlow backend.\n"
          ],
          "name": "stderr"
        }
      ]
    },
    {
      "cell_type": "markdown",
      "metadata": {
        "id": "tq37020cNRO2",
        "colab_type": "text"
      },
      "source": [
        "#  Data load"
      ]
    },
    {
      "cell_type": "code",
      "metadata": {
        "id": "zcyBeXycNRO2",
        "colab_type": "code",
        "colab": {
          "base_uri": "https://localhost:8080/",
          "height": 51
        },
        "outputId": "ad24386b-39a2-4310-9b4d-99458f6d68dc"
      },
      "source": [
        "target_original = pd.read_csv('data/first_data/target_v1.csv')\n",
        "weather_original = pd.read_csv('data/first_data/weather_v1.csv')\n",
        "hourly_smp_original = pd.read_csv('data/first_data/hourly_smp_v1.csv')\n",
        "\n",
        "target = target_original.copy()\n",
        "weather = weather_original.copy()\n",
        "hourly_smp = hourly_smp_original.copy()"
      ],
      "execution_count": 4,
      "outputs": [
        {
          "output_type": "stream",
          "text": [
            "/usr/local/lib/python3.6/dist-packages/IPython/core/interactiveshell.py:2718: DtypeWarning: Columns (25) have mixed types.Specify dtype option on import or set low_memory=False.\n",
            "  interactivity=interactivity, compiler=compiler, result=result)\n"
          ],
          "name": "stderr"
        }
      ]
    },
    {
      "cell_type": "code",
      "metadata": {
        "id": "BxQcLp0vNRO6",
        "colab_type": "code",
        "colab": {}
      },
      "source": [
        "oil_price_cl_original = pd.read_csv('data/oil/oil_price_cl.csv')\n",
        "oil_price_du_original = pd.read_csv('data/oil/oil_price_du.csv')\n",
        "oil_price_brt_original = pd.read_csv('data/oil/oil_price_brt.csv')\n",
        "\n",
        "oil_price_cl = oil_price_cl_original.copy()\n",
        "oil_price_du = oil_price_du_original.copy()\n",
        "oil_price_brt = oil_price_brt_original.copy()"
      ],
      "execution_count": 0,
      "outputs": []
    },
    {
      "cell_type": "markdown",
      "metadata": {
        "id": "dIt9kaEVNRO-",
        "colab_type": "text"
      },
      "source": [
        "#  Preprocessing"
      ]
    },
    {
      "cell_type": "markdown",
      "metadata": {
        "id": "Mkq1oAuNNRO-",
        "colab_type": "text"
      },
      "source": [
        "### smp and oil data"
      ]
    },
    {
      "cell_type": "code",
      "metadata": {
        "id": "acRXOq8LNRO_",
        "colab_type": "code",
        "colab": {}
      },
      "source": [
        "def date_time_split(data) :\n",
        "    data['date'] = pd.to_datetime(data['date'])\n",
        "\n",
        "    data['year'] = data['date'].dt.year\n",
        "    data['month'] = data['date'].dt.month\n",
        "    data['day'] = data['date'].dt.day\n",
        "    data['weekday'] = data['date'].dt.weekday\n",
        "    data['hour'] = data['date'].dt.hour\n",
        "\n",
        "    data = data.drop(['date'], axis = 1)\n",
        "\n",
        "    return data"
      ],
      "execution_count": 0,
      "outputs": []
    },
    {
      "cell_type": "code",
      "metadata": {
        "id": "TLy0KV6SNRPC",
        "colab_type": "code",
        "colab": {}
      },
      "source": [
        "target = date_time_split(target)\n",
        "target = target.iloc[:, :-1]"
      ],
      "execution_count": 0,
      "outputs": []
    },
    {
      "cell_type": "code",
      "metadata": {
        "id": "28OgV3TDNRPF",
        "colab_type": "code",
        "colab": {}
      },
      "source": [
        "def time_data(data, start, end) :\n",
        "    \n",
        "    # time data를 만들기 위해 각 데이터별 날짜의 최대 최솟값을 저장해둠\n",
        "    period = pd.date_range(start = start, end = end)\n",
        "    \n",
        "     #time data 생성\n",
        "    time_data = pd.DataFrame({'date' : period})\n",
        "    time_data = date_time_split(time_data)\n",
        "    \n",
        "    return time_data"
      ],
      "execution_count": 0,
      "outputs": []
    },
    {
      "cell_type": "code",
      "metadata": {
        "id": "nX7YAqiDNRPI",
        "colab_type": "code",
        "colab": {}
      },
      "source": [
        "def make_oil_data(oil,start, end) :\n",
        "    #oil_price에서 필요한 column(date, price)만을 추출함 \n",
        "    oil = oil.iloc[:, 1:3]\n",
        "    \n",
        "    # target data의 날짜에 맞춰 sampling\n",
        "    # oil의 가격은 3개월 이후의 smp에 영향을 미치므로 2017-11-02 이후의 데이터만을 sampling\n",
        "    oil = oil[(oil['date'] >= start) & (oil['date'] <= end)]\n",
        "    \n",
        "    #날짜 순서대로 data를 sorting\n",
        "    oil.sort_values(by = ['date'], inplace = True)\n",
        "    \n",
        "    #index를 0부터 시작되도록 초기화(후에 data를 merge할때 index가 다르면 error 발생)\n",
        "    oil.reset_index(drop = True, inplace = True)\n",
        "\n",
        "    oil = date_time_split(oil)\n",
        "\n",
        "    return oil"
      ],
      "execution_count": 0,
      "outputs": []
    },
    {
      "cell_type": "code",
      "metadata": {
        "id": "FbKPikL4NRPL",
        "colab_type": "code",
        "colab": {}
      },
      "source": [
        "def merge_oil(oil_1, oil_2, oil_3, time) :\n",
        "    \n",
        "    #time_data를 기준으로 oil data들을 merge함\n",
        "    # 이때 주말의 oil data들은 존재하지 않으므로 모두 null값으로 들어감\n",
        "    oil = pd.merge(left = time, right = oil_1, how = 'outer')\n",
        "    oil = pd.merge(left = oil, right = oil_2, how = 'outer')\n",
        "    oil = pd.merge(left = oil, right = oil_3, how = 'outer')\n",
        "    \n",
        "    #주말 oil data의 null값을 각 column의 평균으로 채움\n",
        "    fillna = {'du_price' : oil.du_price.mean(), 'cl_price' : oil.cl_price.mean(), 'brt_price' : oil.brt_price.mean()}\n",
        "    oil = oil.fillna(value = fillna)\n",
        "    \n",
        "    #oil 데이터의 날짜정보를 필요없으므로 drop\n",
        "    oil = oil.iloc[ : , -3: ]\n",
        "    \n",
        "    return oil"
      ],
      "execution_count": 0,
      "outputs": []
    },
    {
      "cell_type": "code",
      "metadata": {
        "id": "J_k2lyoSNRPO",
        "colab_type": "code",
        "colab": {}
      },
      "source": [
        "oil_price_cl.columns = ['place', 'date', 'cl_price']\n",
        "oil_price_du.columns = ['place', 'date', 'du_price']\n",
        "oil_price_brt.columns = ['place', 'date', 'brt_price']\n",
        "\n",
        "start = '2017-11-02'\n",
        "end = '2019-11-01'"
      ],
      "execution_count": 0,
      "outputs": []
    },
    {
      "cell_type": "code",
      "metadata": {
        "id": "slB6VISRNRPR",
        "colab_type": "code",
        "colab": {}
      },
      "source": [
        "oil_cl = make_oil_data(oil_price_cl, start, end)\n",
        "oil_du = make_oil_data(oil_price_du, start, end)\n",
        "oil_brt = make_oil_data(oil_price_brt, start, end)\n",
        "\n",
        "time = time_data(oil_cl, start, end)"
      ],
      "execution_count": 0,
      "outputs": []
    },
    {
      "cell_type": "code",
      "metadata": {
        "id": "7M9keLdSNRPU",
        "colab_type": "code",
        "colab": {}
      },
      "source": [
        "oil = merge_oil(oil_cl, oil_du, oil_brt, time)"
      ],
      "execution_count": 0,
      "outputs": []
    },
    {
      "cell_type": "code",
      "metadata": {
        "id": "aoUgav1vNRPY",
        "colab_type": "code",
        "colab": {
          "base_uri": "https://localhost:8080/",
          "height": 419
        },
        "outputId": "e70f1f43-a3fa-457a-efb7-562649eab227"
      },
      "source": [
        "target = pd.concat([target, oil], axis = 1)\n",
        "target"
      ],
      "execution_count": 14,
      "outputs": [
        {
          "output_type": "execute_result",
          "data": {
            "text/html": [
              "<div>\n",
              "<style scoped>\n",
              "    .dataframe tbody tr th:only-of-type {\n",
              "        vertical-align: middle;\n",
              "    }\n",
              "\n",
              "    .dataframe tbody tr th {\n",
              "        vertical-align: top;\n",
              "    }\n",
              "\n",
              "    .dataframe thead th {\n",
              "        text-align: right;\n",
              "    }\n",
              "</style>\n",
              "<table border=\"1\" class=\"dataframe\">\n",
              "  <thead>\n",
              "    <tr style=\"text-align: right;\">\n",
              "      <th></th>\n",
              "      <th>smp_max</th>\n",
              "      <th>smp_min</th>\n",
              "      <th>smp_mean</th>\n",
              "      <th>supply</th>\n",
              "      <th>year</th>\n",
              "      <th>month</th>\n",
              "      <th>day</th>\n",
              "      <th>weekday</th>\n",
              "      <th>cl_price</th>\n",
              "      <th>du_price</th>\n",
              "      <th>brt_price</th>\n",
              "    </tr>\n",
              "  </thead>\n",
              "  <tbody>\n",
              "    <tr>\n",
              "      <th>0</th>\n",
              "      <td>150.65</td>\n",
              "      <td>116.84</td>\n",
              "      <td>132.71</td>\n",
              "      <td>87.47</td>\n",
              "      <td>2018</td>\n",
              "      <td>2</td>\n",
              "      <td>1</td>\n",
              "      <td>3</td>\n",
              "      <td>54.540000</td>\n",
              "      <td>58.870000</td>\n",
              "      <td>60.620000</td>\n",
              "    </tr>\n",
              "    <tr>\n",
              "      <th>1</th>\n",
              "      <td>163.86</td>\n",
              "      <td>116.84</td>\n",
              "      <td>134.19</td>\n",
              "      <td>86.64</td>\n",
              "      <td>2018</td>\n",
              "      <td>2</td>\n",
              "      <td>2</td>\n",
              "      <td>4</td>\n",
              "      <td>55.640000</td>\n",
              "      <td>60.150000</td>\n",
              "      <td>62.070000</td>\n",
              "    </tr>\n",
              "    <tr>\n",
              "      <th>2</th>\n",
              "      <td>164.07</td>\n",
              "      <td>116.85</td>\n",
              "      <td>131.39</td>\n",
              "      <td>88.28</td>\n",
              "      <td>2018</td>\n",
              "      <td>2</td>\n",
              "      <td>3</td>\n",
              "      <td>5</td>\n",
              "      <td>60.888469</td>\n",
              "      <td>66.191494</td>\n",
              "      <td>67.863066</td>\n",
              "    </tr>\n",
              "    <tr>\n",
              "      <th>3</th>\n",
              "      <td>171.00</td>\n",
              "      <td>115.76</td>\n",
              "      <td>131.89</td>\n",
              "      <td>86.14</td>\n",
              "      <td>2018</td>\n",
              "      <td>2</td>\n",
              "      <td>4</td>\n",
              "      <td>6</td>\n",
              "      <td>60.888469</td>\n",
              "      <td>66.191494</td>\n",
              "      <td>67.863066</td>\n",
              "    </tr>\n",
              "    <tr>\n",
              "      <th>4</th>\n",
              "      <td>170.34</td>\n",
              "      <td>123.89</td>\n",
              "      <td>137.96</td>\n",
              "      <td>90.63</td>\n",
              "      <td>2018</td>\n",
              "      <td>2</td>\n",
              "      <td>5</td>\n",
              "      <td>0</td>\n",
              "      <td>57.350000</td>\n",
              "      <td>61.830000</td>\n",
              "      <td>64.270000</td>\n",
              "    </tr>\n",
              "    <tr>\n",
              "      <th>...</th>\n",
              "      <td>...</td>\n",
              "      <td>...</td>\n",
              "      <td>...</td>\n",
              "      <td>...</td>\n",
              "      <td>...</td>\n",
              "      <td>...</td>\n",
              "      <td>...</td>\n",
              "      <td>...</td>\n",
              "      <td>...</td>\n",
              "      <td>...</td>\n",
              "      <td>...</td>\n",
              "    </tr>\n",
              "    <tr>\n",
              "      <th>725</th>\n",
              "      <td>154.46</td>\n",
              "      <td>78.95</td>\n",
              "      <td>94.07</td>\n",
              "      <td>76.64</td>\n",
              "      <td>2020</td>\n",
              "      <td>1</td>\n",
              "      <td>27</td>\n",
              "      <td>0</td>\n",
              "      <td>55.810000</td>\n",
              "      <td>59.450000</td>\n",
              "      <td>61.570000</td>\n",
              "    </tr>\n",
              "    <tr>\n",
              "      <th>726</th>\n",
              "      <td>156.57</td>\n",
              "      <td>84.80</td>\n",
              "      <td>103.05</td>\n",
              "      <td>80.25</td>\n",
              "      <td>2020</td>\n",
              "      <td>1</td>\n",
              "      <td>28</td>\n",
              "      <td>1</td>\n",
              "      <td>55.540000</td>\n",
              "      <td>59.410000</td>\n",
              "      <td>61.590000</td>\n",
              "    </tr>\n",
              "    <tr>\n",
              "      <th>727</th>\n",
              "      <td>154.78</td>\n",
              "      <td>86.99</td>\n",
              "      <td>109.21</td>\n",
              "      <td>82.90</td>\n",
              "      <td>2020</td>\n",
              "      <td>1</td>\n",
              "      <td>29</td>\n",
              "      <td>2</td>\n",
              "      <td>55.060000</td>\n",
              "      <td>59.320000</td>\n",
              "      <td>60.610000</td>\n",
              "    </tr>\n",
              "    <tr>\n",
              "      <th>728</th>\n",
              "      <td>203.15</td>\n",
              "      <td>84.87</td>\n",
              "      <td>112.85</td>\n",
              "      <td>84.85</td>\n",
              "      <td>2020</td>\n",
              "      <td>1</td>\n",
              "      <td>30</td>\n",
              "      <td>3</td>\n",
              "      <td>54.180000</td>\n",
              "      <td>58.450000</td>\n",
              "      <td>60.230000</td>\n",
              "    </tr>\n",
              "    <tr>\n",
              "      <th>729</th>\n",
              "      <td>205.89</td>\n",
              "      <td>84.80</td>\n",
              "      <td>117.22</td>\n",
              "      <td>86.06</td>\n",
              "      <td>2020</td>\n",
              "      <td>1</td>\n",
              "      <td>31</td>\n",
              "      <td>4</td>\n",
              "      <td>60.888469</td>\n",
              "      <td>66.191494</td>\n",
              "      <td>67.863066</td>\n",
              "    </tr>\n",
              "  </tbody>\n",
              "</table>\n",
              "<p>730 rows × 11 columns</p>\n",
              "</div>"
            ],
            "text/plain": [
              "     smp_max  smp_min  smp_mean  ...   cl_price   du_price  brt_price\n",
              "0     150.65   116.84    132.71  ...  54.540000  58.870000  60.620000\n",
              "1     163.86   116.84    134.19  ...  55.640000  60.150000  62.070000\n",
              "2     164.07   116.85    131.39  ...  60.888469  66.191494  67.863066\n",
              "3     171.00   115.76    131.89  ...  60.888469  66.191494  67.863066\n",
              "4     170.34   123.89    137.96  ...  57.350000  61.830000  64.270000\n",
              "..       ...      ...       ...  ...        ...        ...        ...\n",
              "725   154.46    78.95     94.07  ...  55.810000  59.450000  61.570000\n",
              "726   156.57    84.80    103.05  ...  55.540000  59.410000  61.590000\n",
              "727   154.78    86.99    109.21  ...  55.060000  59.320000  60.610000\n",
              "728   203.15    84.87    112.85  ...  54.180000  58.450000  60.230000\n",
              "729   205.89    84.80    117.22  ...  60.888469  66.191494  67.863066\n",
              "\n",
              "[730 rows x 11 columns]"
            ]
          },
          "metadata": {
            "tags": []
          },
          "execution_count": 14
        }
      ]
    },
    {
      "cell_type": "markdown",
      "metadata": {
        "id": "5dbELj3sNRPc",
        "colab_type": "text"
      },
      "source": [
        "### temperature data"
      ]
    },
    {
      "cell_type": "code",
      "metadata": {
        "id": "CTWrbGsxNRPc",
        "colab_type": "code",
        "colab": {}
      },
      "source": [
        "def temp_preprocessing(data) :\n",
        "    \n",
        "    #weather data에서 temp와 date를 제외한 모든 column drop\n",
        "    data = data[data['area'] == 884]\n",
        "    data = data.iloc[:, 1:3]\n",
        "    data.reset_index(drop = True, inplace = True)\n",
        "    data.columns = ['date', 'temp']\n",
        "    \n",
        "    #weather data의 date를 year, month, day, weekday, hour로 분해해줌\n",
        "    data = date_time_split(data)\n",
        "    \n",
        "    #2018년 2월 1일 00시 데이터와 2019년 2월 1일 00시 데이터 누락\n",
        "    #해당 데이터를 채워줌\n",
        "    column = data.columns\n",
        "    \n",
        "    first_data = [round(data[data['month'] ==2]['temp'].mean(), 1) , 2018, 2, 1, 3, 0]\n",
        "    second_data = [round(data[data['month'] ==2]['temp'].mean(), 1), 2019, 2, 1, 4, 0]\n",
        "    time_data = [first_data, second_data]\n",
        "    time_data = pd.DataFrame(time_data, columns = column)\n",
        "    data = pd.concat([data, time_data])\n",
        "    \n",
        "    data.sort_values(by = ['year', 'month', 'day', 'weekday', 'hour'], inplace = True)\n",
        "    data.reset_index(drop = True, inplace = True)\n",
        "    \n",
        "    return data"
      ],
      "execution_count": 0,
      "outputs": []
    },
    {
      "cell_type": "code",
      "metadata": {
        "id": "4ZcE62K-NRPf",
        "colab_type": "code",
        "colab": {}
      },
      "source": [
        "def make_daily_temp(data, window_size, daily_size) :\n",
        "    \n",
        "    #하루치 데이터마다 sampling하여 dict 자료구조로 저장\n",
        "    weather_dict = {}\n",
        "    for window in range(daily_size) :\n",
        "        weather_dict[window] = data.iloc[window_size*window+1 : window_size*(window+1), : ]\n",
        "        \n",
        "    \n",
        "    #동일한 기간의 날짜정보만 담은 dataframe 만들기\n",
        "    start = '2018-02-01'\n",
        "    end = '2020-01-31'\n",
        "\n",
        "    period = pd.date_range(start = start, end = end)\n",
        "    period = pd.DataFrame({'date' : period})\n",
        "    period = date_time_split(period)\n",
        "    period = period.iloc[ : , :-1]\n",
        "    \n",
        "    #시간별 온도들을 모아 하루치 평균 온도를 계산\n",
        "    mean_temp = [0] * daily_size\n",
        "    for window in range(daily_size) :\n",
        "        mean_temp[window] = round(weather_dict[window]['temp'].mean(),1)\n",
        "    \n",
        "    period['temp'] = mean_temp\n",
        "    \n",
        "    return period"
      ],
      "execution_count": 0,
      "outputs": []
    },
    {
      "cell_type": "code",
      "metadata": {
        "id": "MvFy03Y4NRPh",
        "colab_type": "code",
        "colab": {
          "base_uri": "https://localhost:8080/",
          "height": 204
        },
        "outputId": "04958415-5335-412e-aada-b15287e51d72"
      },
      "source": [
        "daily_size = 730\n",
        "window_size = 24\n",
        "\n",
        "weather = temp_preprocessing(weather)\n",
        "weather = make_daily_temp(data = weather, window_size = window_size, daily_size = daily_size)\n",
        "weather.head()"
      ],
      "execution_count": 17,
      "outputs": [
        {
          "output_type": "execute_result",
          "data": {
            "text/html": [
              "<div>\n",
              "<style scoped>\n",
              "    .dataframe tbody tr th:only-of-type {\n",
              "        vertical-align: middle;\n",
              "    }\n",
              "\n",
              "    .dataframe tbody tr th {\n",
              "        vertical-align: top;\n",
              "    }\n",
              "\n",
              "    .dataframe thead th {\n",
              "        text-align: right;\n",
              "    }\n",
              "</style>\n",
              "<table border=\"1\" class=\"dataframe\">\n",
              "  <thead>\n",
              "    <tr style=\"text-align: right;\">\n",
              "      <th></th>\n",
              "      <th>year</th>\n",
              "      <th>month</th>\n",
              "      <th>day</th>\n",
              "      <th>weekday</th>\n",
              "      <th>temp</th>\n",
              "    </tr>\n",
              "  </thead>\n",
              "  <tbody>\n",
              "    <tr>\n",
              "      <th>0</th>\n",
              "      <td>2018</td>\n",
              "      <td>2</td>\n",
              "      <td>1</td>\n",
              "      <td>3</td>\n",
              "      <td>4.2</td>\n",
              "    </tr>\n",
              "    <tr>\n",
              "      <th>1</th>\n",
              "      <td>2018</td>\n",
              "      <td>2</td>\n",
              "      <td>2</td>\n",
              "      <td>4</td>\n",
              "      <td>4.6</td>\n",
              "    </tr>\n",
              "    <tr>\n",
              "      <th>2</th>\n",
              "      <td>2018</td>\n",
              "      <td>2</td>\n",
              "      <td>3</td>\n",
              "      <td>5</td>\n",
              "      <td>0.7</td>\n",
              "    </tr>\n",
              "    <tr>\n",
              "      <th>3</th>\n",
              "      <td>2018</td>\n",
              "      <td>2</td>\n",
              "      <td>4</td>\n",
              "      <td>6</td>\n",
              "      <td>-1.7</td>\n",
              "    </tr>\n",
              "    <tr>\n",
              "      <th>4</th>\n",
              "      <td>2018</td>\n",
              "      <td>2</td>\n",
              "      <td>5</td>\n",
              "      <td>0</td>\n",
              "      <td>-0.5</td>\n",
              "    </tr>\n",
              "  </tbody>\n",
              "</table>\n",
              "</div>"
            ],
            "text/plain": [
              "   year  month  day  weekday  temp\n",
              "0  2018      2    1        3   4.2\n",
              "1  2018      2    2        4   4.6\n",
              "2  2018      2    3        5   0.7\n",
              "3  2018      2    4        6  -1.7\n",
              "4  2018      2    5        0  -0.5"
            ]
          },
          "metadata": {
            "tags": []
          },
          "execution_count": 17
        }
      ]
    },
    {
      "cell_type": "markdown",
      "metadata": {
        "id": "0G2SWQwGNRPk",
        "colab_type": "text"
      },
      "source": [
        "### Combine both and make train"
      ]
    },
    {
      "cell_type": "code",
      "metadata": {
        "id": "CRdyZd9tNRPk",
        "colab_type": "code",
        "colab": {}
      },
      "source": [
        "train = pd.merge(left = weather, right = target, on = ['year', 'month', 'day', 'weekday'])\n",
        "\n",
        "time = train['year'].astype(str) + '-' + train['month'].astype(str) + '-' + train['day'].astype(str)\n",
        "train['date'] = pd.to_datetime(time)\n",
        "\n",
        "train = train[['date', 'year', 'month', 'day', 'weekday', 'temp', 'cl_price', 'du_price', 'brt_price', 'smp_min', 'smp_max', 'smp_mean', 'supply']]"
      ],
      "execution_count": 0,
      "outputs": []
    },
    {
      "cell_type": "code",
      "metadata": {
        "id": "Xd12ANUVNRPo",
        "colab_type": "code",
        "colab": {
          "base_uri": "https://localhost:8080/",
          "height": 419
        },
        "outputId": "952bd44b-85ac-4cda-bab0-000c44abc566"
      },
      "source": [
        "train"
      ],
      "execution_count": 19,
      "outputs": [
        {
          "output_type": "execute_result",
          "data": {
            "text/html": [
              "<div>\n",
              "<style scoped>\n",
              "    .dataframe tbody tr th:only-of-type {\n",
              "        vertical-align: middle;\n",
              "    }\n",
              "\n",
              "    .dataframe tbody tr th {\n",
              "        vertical-align: top;\n",
              "    }\n",
              "\n",
              "    .dataframe thead th {\n",
              "        text-align: right;\n",
              "    }\n",
              "</style>\n",
              "<table border=\"1\" class=\"dataframe\">\n",
              "  <thead>\n",
              "    <tr style=\"text-align: right;\">\n",
              "      <th></th>\n",
              "      <th>date</th>\n",
              "      <th>year</th>\n",
              "      <th>month</th>\n",
              "      <th>day</th>\n",
              "      <th>weekday</th>\n",
              "      <th>temp</th>\n",
              "      <th>cl_price</th>\n",
              "      <th>du_price</th>\n",
              "      <th>brt_price</th>\n",
              "      <th>smp_min</th>\n",
              "      <th>smp_max</th>\n",
              "      <th>smp_mean</th>\n",
              "      <th>supply</th>\n",
              "    </tr>\n",
              "  </thead>\n",
              "  <tbody>\n",
              "    <tr>\n",
              "      <th>0</th>\n",
              "      <td>2018-02-01</td>\n",
              "      <td>2018</td>\n",
              "      <td>2</td>\n",
              "      <td>1</td>\n",
              "      <td>3</td>\n",
              "      <td>4.2</td>\n",
              "      <td>54.540000</td>\n",
              "      <td>58.870000</td>\n",
              "      <td>60.620000</td>\n",
              "      <td>116.84</td>\n",
              "      <td>150.65</td>\n",
              "      <td>132.71</td>\n",
              "      <td>87.47</td>\n",
              "    </tr>\n",
              "    <tr>\n",
              "      <th>1</th>\n",
              "      <td>2018-02-02</td>\n",
              "      <td>2018</td>\n",
              "      <td>2</td>\n",
              "      <td>2</td>\n",
              "      <td>4</td>\n",
              "      <td>4.6</td>\n",
              "      <td>55.640000</td>\n",
              "      <td>60.150000</td>\n",
              "      <td>62.070000</td>\n",
              "      <td>116.84</td>\n",
              "      <td>163.86</td>\n",
              "      <td>134.19</td>\n",
              "      <td>86.64</td>\n",
              "    </tr>\n",
              "    <tr>\n",
              "      <th>2</th>\n",
              "      <td>2018-02-03</td>\n",
              "      <td>2018</td>\n",
              "      <td>2</td>\n",
              "      <td>3</td>\n",
              "      <td>5</td>\n",
              "      <td>0.7</td>\n",
              "      <td>60.888469</td>\n",
              "      <td>66.191494</td>\n",
              "      <td>67.863066</td>\n",
              "      <td>116.85</td>\n",
              "      <td>164.07</td>\n",
              "      <td>131.39</td>\n",
              "      <td>88.28</td>\n",
              "    </tr>\n",
              "    <tr>\n",
              "      <th>3</th>\n",
              "      <td>2018-02-04</td>\n",
              "      <td>2018</td>\n",
              "      <td>2</td>\n",
              "      <td>4</td>\n",
              "      <td>6</td>\n",
              "      <td>-1.7</td>\n",
              "      <td>60.888469</td>\n",
              "      <td>66.191494</td>\n",
              "      <td>67.863066</td>\n",
              "      <td>115.76</td>\n",
              "      <td>171.00</td>\n",
              "      <td>131.89</td>\n",
              "      <td>86.14</td>\n",
              "    </tr>\n",
              "    <tr>\n",
              "      <th>4</th>\n",
              "      <td>2018-02-05</td>\n",
              "      <td>2018</td>\n",
              "      <td>2</td>\n",
              "      <td>5</td>\n",
              "      <td>0</td>\n",
              "      <td>-0.5</td>\n",
              "      <td>57.350000</td>\n",
              "      <td>61.830000</td>\n",
              "      <td>64.270000</td>\n",
              "      <td>123.89</td>\n",
              "      <td>170.34</td>\n",
              "      <td>137.96</td>\n",
              "      <td>90.63</td>\n",
              "    </tr>\n",
              "    <tr>\n",
              "      <th>...</th>\n",
              "      <td>...</td>\n",
              "      <td>...</td>\n",
              "      <td>...</td>\n",
              "      <td>...</td>\n",
              "      <td>...</td>\n",
              "      <td>...</td>\n",
              "      <td>...</td>\n",
              "      <td>...</td>\n",
              "      <td>...</td>\n",
              "      <td>...</td>\n",
              "      <td>...</td>\n",
              "      <td>...</td>\n",
              "      <td>...</td>\n",
              "    </tr>\n",
              "    <tr>\n",
              "      <th>725</th>\n",
              "      <td>2020-01-27</td>\n",
              "      <td>2020</td>\n",
              "      <td>1</td>\n",
              "      <td>27</td>\n",
              "      <td>0</td>\n",
              "      <td>9.9</td>\n",
              "      <td>55.810000</td>\n",
              "      <td>59.450000</td>\n",
              "      <td>61.570000</td>\n",
              "      <td>78.95</td>\n",
              "      <td>154.46</td>\n",
              "      <td>94.07</td>\n",
              "      <td>76.64</td>\n",
              "    </tr>\n",
              "    <tr>\n",
              "      <th>726</th>\n",
              "      <td>2020-01-28</td>\n",
              "      <td>2020</td>\n",
              "      <td>1</td>\n",
              "      <td>28</td>\n",
              "      <td>1</td>\n",
              "      <td>9.1</td>\n",
              "      <td>55.540000</td>\n",
              "      <td>59.410000</td>\n",
              "      <td>61.590000</td>\n",
              "      <td>84.80</td>\n",
              "      <td>156.57</td>\n",
              "      <td>103.05</td>\n",
              "      <td>80.25</td>\n",
              "    </tr>\n",
              "    <tr>\n",
              "      <th>727</th>\n",
              "      <td>2020-01-29</td>\n",
              "      <td>2020</td>\n",
              "      <td>1</td>\n",
              "      <td>29</td>\n",
              "      <td>2</td>\n",
              "      <td>8.9</td>\n",
              "      <td>55.060000</td>\n",
              "      <td>59.320000</td>\n",
              "      <td>60.610000</td>\n",
              "      <td>86.99</td>\n",
              "      <td>154.78</td>\n",
              "      <td>109.21</td>\n",
              "      <td>82.90</td>\n",
              "    </tr>\n",
              "    <tr>\n",
              "      <th>728</th>\n",
              "      <td>2020-01-30</td>\n",
              "      <td>2020</td>\n",
              "      <td>1</td>\n",
              "      <td>30</td>\n",
              "      <td>3</td>\n",
              "      <td>7.2</td>\n",
              "      <td>54.180000</td>\n",
              "      <td>58.450000</td>\n",
              "      <td>60.230000</td>\n",
              "      <td>84.87</td>\n",
              "      <td>203.15</td>\n",
              "      <td>112.85</td>\n",
              "      <td>84.85</td>\n",
              "    </tr>\n",
              "    <tr>\n",
              "      <th>729</th>\n",
              "      <td>2020-01-31</td>\n",
              "      <td>2020</td>\n",
              "      <td>1</td>\n",
              "      <td>31</td>\n",
              "      <td>4</td>\n",
              "      <td>6.7</td>\n",
              "      <td>60.888469</td>\n",
              "      <td>66.191494</td>\n",
              "      <td>67.863066</td>\n",
              "      <td>84.80</td>\n",
              "      <td>205.89</td>\n",
              "      <td>117.22</td>\n",
              "      <td>86.06</td>\n",
              "    </tr>\n",
              "  </tbody>\n",
              "</table>\n",
              "<p>730 rows × 13 columns</p>\n",
              "</div>"
            ],
            "text/plain": [
              "          date  year  month  day  ...  smp_min  smp_max  smp_mean  supply\n",
              "0   2018-02-01  2018      2    1  ...   116.84   150.65    132.71   87.47\n",
              "1   2018-02-02  2018      2    2  ...   116.84   163.86    134.19   86.64\n",
              "2   2018-02-03  2018      2    3  ...   116.85   164.07    131.39   88.28\n",
              "3   2018-02-04  2018      2    4  ...   115.76   171.00    131.89   86.14\n",
              "4   2018-02-05  2018      2    5  ...   123.89   170.34    137.96   90.63\n",
              "..         ...   ...    ...  ...  ...      ...      ...       ...     ...\n",
              "725 2020-01-27  2020      1   27  ...    78.95   154.46     94.07   76.64\n",
              "726 2020-01-28  2020      1   28  ...    84.80   156.57    103.05   80.25\n",
              "727 2020-01-29  2020      1   29  ...    86.99   154.78    109.21   82.90\n",
              "728 2020-01-30  2020      1   30  ...    84.87   203.15    112.85   84.85\n",
              "729 2020-01-31  2020      1   31  ...    84.80   205.89    117.22   86.06\n",
              "\n",
              "[730 rows x 13 columns]"
            ]
          },
          "metadata": {
            "tags": []
          },
          "execution_count": 19
        }
      ]
    },
    {
      "cell_type": "markdown",
      "metadata": {
        "id": "FqZgXxlqNRPr",
        "colab_type": "text"
      },
      "source": [
        "# Create windows "
      ]
    },
    {
      "cell_type": "code",
      "metadata": {
        "id": "woRB1P0JNRPr",
        "colab_type": "code",
        "colab": {}
      },
      "source": [
        "smp_mean = train['smp_mean'].values"
      ],
      "execution_count": 0,
      "outputs": []
    },
    {
      "cell_type": "code",
      "metadata": {
        "id": "NqXBp05SNRPu",
        "colab_type": "code",
        "colab": {}
      },
      "source": [
        "seq_len = 50\n",
        "sequence_length = seq_len + 1\n",
        "\n",
        "result = []\n",
        "for index in range(len(smp_mean) - sequence_length):\n",
        "    result.append(smp_mean[index: index + sequence_length])"
      ],
      "execution_count": 0,
      "outputs": []
    },
    {
      "cell_type": "markdown",
      "metadata": {
        "id": "jhHmO-uJNRPw",
        "colab_type": "text"
      },
      "source": [
        "# Normalize data"
      ]
    },
    {
      "cell_type": "code",
      "metadata": {
        "id": "6TcF09qhNRPx",
        "colab_type": "code",
        "colab": {}
      },
      "source": [
        "normalized_data = []\n",
        "for window in result:\n",
        "    normalized_window = [((float(p) / float(window[0])) - 1) for p in window]\n",
        "    normalized_data.append(normalized_window)\n",
        "    \n",
        "result = np.array(normalized_data)"
      ],
      "execution_count": 0,
      "outputs": []
    },
    {
      "cell_type": "markdown",
      "metadata": {
        "id": "JkpZCjpoNRPz",
        "colab_type": "text"
      },
      "source": [
        "# Split data"
      ]
    },
    {
      "cell_type": "code",
      "metadata": {
        "id": "uBpiOjVZNRPz",
        "colab_type": "code",
        "colab": {
          "base_uri": "https://localhost:8080/",
          "height": 34
        },
        "outputId": "fad40af0-ad27-478f-ca7c-bd4c9cfc9eae"
      },
      "source": [
        "# split train and test data\n",
        "row = int(round(result.shape[0] * 0.9))\n",
        "train = result[:row, :]\n",
        "np.random.shuffle(train)\n",
        "\n",
        "x_train = train[:, 1:9]\n",
        "x_train = np.reshape(x_train, (x_train.shape[0], x_train.shape[1], 1))\n",
        "y_train = train[:, 11]\n",
        "\n",
        "x_test = result[row:, 1:9]\n",
        "x_test = np.reshape(x_test, (x_test.shape[0], x_test.shape[1], 1))\n",
        "y_test = result[row:, 11]\n",
        "\n",
        "x_train.shape, x_test.shape"
      ],
      "execution_count": 23,
      "outputs": [
        {
          "output_type": "execute_result",
          "data": {
            "text/plain": [
              "((611, 8, 1), (68, 8, 1))"
            ]
          },
          "metadata": {
            "tags": []
          },
          "execution_count": 23
        }
      ]
    },
    {
      "cell_type": "markdown",
      "metadata": {
        "id": "ppdbzObRNRP2",
        "colab_type": "text"
      },
      "source": [
        "# Build model"
      ]
    },
    {
      "cell_type": "code",
      "metadata": {
        "id": "Kfij5fxWNRP2",
        "colab_type": "code",
        "colab": {
          "base_uri": "https://localhost:8080/",
          "height": 357
        },
        "outputId": "8083ce9d-8cea-448f-d4d6-a2f1a23c6411"
      },
      "source": [
        "model = Sequential()\n",
        "\n",
        "model.add(LSTM(8, return_sequences=True, input_shape=(8, 1)))\n",
        "\n",
        "model.add(LSTM(64, return_sequences=True))\n",
        "\n",
        "model.add(LSTM(128, return_sequences=True))\n",
        "\n",
        "#model.add(Dropout(0.5))\n",
        "\n",
        "model.add(LSTM(64, return_sequences=True))\n",
        "\n",
        "model.add(LSTM(32, return_sequences=False))\n",
        "\n",
        "model.add(Dense(1, activation='linear'))\n",
        "\n",
        "model.compile(loss='mse', optimizer='rmsprop')\n",
        "\n",
        "model.summary()"
      ],
      "execution_count": 24,
      "outputs": [
        {
          "output_type": "stream",
          "text": [
            "Model: \"sequential_1\"\n",
            "_________________________________________________________________\n",
            "Layer (type)                 Output Shape              Param #   \n",
            "=================================================================\n",
            "lstm_1 (LSTM)                (None, 8, 8)              320       \n",
            "_________________________________________________________________\n",
            "lstm_2 (LSTM)                (None, 8, 64)             18688     \n",
            "_________________________________________________________________\n",
            "lstm_3 (LSTM)                (None, 8, 128)            98816     \n",
            "_________________________________________________________________\n",
            "lstm_4 (LSTM)                (None, 8, 64)             49408     \n",
            "_________________________________________________________________\n",
            "lstm_5 (LSTM)                (None, 32)                12416     \n",
            "_________________________________________________________________\n",
            "dense_1 (Dense)              (None, 1)                 33        \n",
            "=================================================================\n",
            "Total params: 179,681\n",
            "Trainable params: 179,681\n",
            "Non-trainable params: 0\n",
            "_________________________________________________________________\n"
          ],
          "name": "stdout"
        }
      ]
    },
    {
      "cell_type": "markdown",
      "metadata": {
        "id": "48DJdt1GNRP5",
        "colab_type": "text"
      },
      "source": [
        "# Training"
      ]
    },
    {
      "cell_type": "code",
      "metadata": {
        "id": "tGBJH8DiNRP6",
        "colab_type": "code",
        "colab": {
          "base_uri": "https://localhost:8080/",
          "height": 1000
        },
        "outputId": "9f1bc0d2-bd73-4ec6-d117-755bdc670a3a"
      },
      "source": [
        "model.fit(x_train, y_train,\n",
        "    validation_data=(x_test, y_test),\n",
        "    batch_size=10,\n",
        "    epochs=100)"
      ],
      "execution_count": 25,
      "outputs": [
        {
          "output_type": "stream",
          "text": [
            "Train on 611 samples, validate on 68 samples\n",
            "Epoch 1/100\n",
            "611/611 [==============================] - 12s 19ms/step - loss: 0.0061 - val_loss: 0.0199\n",
            "Epoch 2/100\n",
            "611/611 [==============================] - 9s 14ms/step - loss: 0.0052 - val_loss: 0.0151\n",
            "Epoch 3/100\n",
            "611/611 [==============================] - 8s 14ms/step - loss: 0.0048 - val_loss: 0.0098\n",
            "Epoch 4/100\n",
            "611/611 [==============================] - 8s 14ms/step - loss: 0.0045 - val_loss: 0.0120\n",
            "Epoch 5/100\n",
            "611/611 [==============================] - 8s 14ms/step - loss: 0.0041 - val_loss: 0.0090\n",
            "Epoch 6/100\n",
            "611/611 [==============================] - 9s 14ms/step - loss: 0.0040 - val_loss: 0.0096\n",
            "Epoch 7/100\n",
            "611/611 [==============================] - 9s 14ms/step - loss: 0.0038 - val_loss: 0.0096\n",
            "Epoch 8/100\n",
            "611/611 [==============================] - 9s 14ms/step - loss: 0.0039 - val_loss: 0.0106\n",
            "Epoch 9/100\n",
            "611/611 [==============================] - 9s 14ms/step - loss: 0.0039 - val_loss: 0.0087\n",
            "Epoch 10/100\n",
            "611/611 [==============================] - 9s 15ms/step - loss: 0.0036 - val_loss: 0.0101\n",
            "Epoch 11/100\n",
            "611/611 [==============================] - 9s 14ms/step - loss: 0.0035 - val_loss: 0.0084\n",
            "Epoch 12/100\n",
            "611/611 [==============================] - 8s 14ms/step - loss: 0.0034 - val_loss: 0.0109\n",
            "Epoch 13/100\n",
            "611/611 [==============================] - 9s 14ms/step - loss: 0.0034 - val_loss: 0.0099\n",
            "Epoch 14/100\n",
            "611/611 [==============================] - 9s 14ms/step - loss: 0.0032 - val_loss: 0.0100\n",
            "Epoch 15/100\n",
            "611/611 [==============================] - 9s 14ms/step - loss: 0.0033 - val_loss: 0.0111\n",
            "Epoch 16/100\n",
            "611/611 [==============================] - 9s 14ms/step - loss: 0.0033 - val_loss: 0.0086\n",
            "Epoch 17/100\n",
            "611/611 [==============================] - 8s 14ms/step - loss: 0.0032 - val_loss: 0.0097\n",
            "Epoch 18/100\n",
            "611/611 [==============================] - 9s 14ms/step - loss: 0.0031 - val_loss: 0.0095\n",
            "Epoch 19/100\n",
            "611/611 [==============================] - 8s 14ms/step - loss: 0.0032 - val_loss: 0.0104\n",
            "Epoch 20/100\n",
            "611/611 [==============================] - 8s 14ms/step - loss: 0.0032 - val_loss: 0.0105\n",
            "Epoch 21/100\n",
            "611/611 [==============================] - 8s 14ms/step - loss: 0.0031 - val_loss: 0.0115\n",
            "Epoch 22/100\n",
            "611/611 [==============================] - 8s 14ms/step - loss: 0.0032 - val_loss: 0.0088\n",
            "Epoch 23/100\n",
            "611/611 [==============================] - 9s 14ms/step - loss: 0.0032 - val_loss: 0.0088\n",
            "Epoch 24/100\n",
            "611/611 [==============================] - 9s 14ms/step - loss: 0.0031 - val_loss: 0.0089\n",
            "Epoch 25/100\n",
            "611/611 [==============================] - 9s 14ms/step - loss: 0.0031 - val_loss: 0.0098\n",
            "Epoch 26/100\n",
            "611/611 [==============================] - 9s 14ms/step - loss: 0.0032 - val_loss: 0.0097\n",
            "Epoch 27/100\n",
            "611/611 [==============================] - 9s 14ms/step - loss: 0.0032 - val_loss: 0.0089\n",
            "Epoch 28/100\n",
            "611/611 [==============================] - 9s 14ms/step - loss: 0.0031 - val_loss: 0.0092\n",
            "Epoch 29/100\n",
            "611/611 [==============================] - 9s 14ms/step - loss: 0.0031 - val_loss: 0.0115\n",
            "Epoch 30/100\n",
            "611/611 [==============================] - 8s 14ms/step - loss: 0.0031 - val_loss: 0.0129\n",
            "Epoch 31/100\n",
            "611/611 [==============================] - 9s 14ms/step - loss: 0.0032 - val_loss: 0.0093\n",
            "Epoch 32/100\n",
            "611/611 [==============================] - 9s 14ms/step - loss: 0.0030 - val_loss: 0.0105\n",
            "Epoch 33/100\n",
            "611/611 [==============================] - 8s 14ms/step - loss: 0.0031 - val_loss: 0.0127\n",
            "Epoch 34/100\n",
            "611/611 [==============================] - 8s 13ms/step - loss: 0.0031 - val_loss: 0.0093\n",
            "Epoch 35/100\n",
            "611/611 [==============================] - 8s 14ms/step - loss: 0.0031 - val_loss: 0.0101\n",
            "Epoch 36/100\n",
            "611/611 [==============================] - 8s 13ms/step - loss: 0.0031 - val_loss: 0.0103\n",
            "Epoch 37/100\n",
            "611/611 [==============================] - 8s 13ms/step - loss: 0.0031 - val_loss: 0.0093\n",
            "Epoch 38/100\n",
            "611/611 [==============================] - 8s 13ms/step - loss: 0.0030 - val_loss: 0.0118\n",
            "Epoch 39/100\n",
            "611/611 [==============================] - 8s 13ms/step - loss: 0.0031 - val_loss: 0.0123\n",
            "Epoch 40/100\n",
            "611/611 [==============================] - 8s 13ms/step - loss: 0.0031 - val_loss: 0.0098\n",
            "Epoch 41/100\n",
            "611/611 [==============================] - 8s 14ms/step - loss: 0.0030 - val_loss: 0.0116\n",
            "Epoch 42/100\n",
            "611/611 [==============================] - 9s 14ms/step - loss: 0.0031 - val_loss: 0.0109\n",
            "Epoch 43/100\n",
            "611/611 [==============================] - 8s 14ms/step - loss: 0.0031 - val_loss: 0.0102\n",
            "Epoch 44/100\n",
            "611/611 [==============================] - 8s 14ms/step - loss: 0.0031 - val_loss: 0.0105\n",
            "Epoch 45/100\n",
            "611/611 [==============================] - 8s 14ms/step - loss: 0.0030 - val_loss: 0.0103\n",
            "Epoch 46/100\n",
            "611/611 [==============================] - 8s 14ms/step - loss: 0.0030 - val_loss: 0.0095\n",
            "Epoch 47/100\n",
            "611/611 [==============================] - 8s 14ms/step - loss: 0.0030 - val_loss: 0.0111\n",
            "Epoch 48/100\n",
            "611/611 [==============================] - 8s 14ms/step - loss: 0.0030 - val_loss: 0.0105\n",
            "Epoch 49/100\n",
            "611/611 [==============================] - 8s 13ms/step - loss: 0.0030 - val_loss: 0.0118\n",
            "Epoch 50/100\n",
            "611/611 [==============================] - 8s 14ms/step - loss: 0.0031 - val_loss: 0.0100\n",
            "Epoch 51/100\n",
            "611/611 [==============================] - 9s 15ms/step - loss: 0.0030 - val_loss: 0.0106\n",
            "Epoch 52/100\n",
            "611/611 [==============================] - 9s 14ms/step - loss: 0.0031 - val_loss: 0.0089\n",
            "Epoch 53/100\n",
            "611/611 [==============================] - 8s 14ms/step - loss: 0.0030 - val_loss: 0.0108\n",
            "Epoch 54/100\n",
            "611/611 [==============================] - 9s 14ms/step - loss: 0.0030 - val_loss: 0.0107\n",
            "Epoch 55/100\n",
            "611/611 [==============================] - 8s 14ms/step - loss: 0.0030 - val_loss: 0.0095\n",
            "Epoch 56/100\n",
            "611/611 [==============================] - 8s 14ms/step - loss: 0.0030 - val_loss: 0.0102\n",
            "Epoch 57/100\n",
            "611/611 [==============================] - 8s 14ms/step - loss: 0.0030 - val_loss: 0.0106\n",
            "Epoch 58/100\n",
            "611/611 [==============================] - 8s 14ms/step - loss: 0.0030 - val_loss: 0.0137\n",
            "Epoch 59/100\n",
            "611/611 [==============================] - 9s 14ms/step - loss: 0.0031 - val_loss: 0.0100\n",
            "Epoch 60/100\n",
            "611/611 [==============================] - 9s 14ms/step - loss: 0.0030 - val_loss: 0.0093\n",
            "Epoch 61/100\n",
            "611/611 [==============================] - 9s 14ms/step - loss: 0.0029 - val_loss: 0.0123\n",
            "Epoch 62/100\n",
            "611/611 [==============================] - 9s 14ms/step - loss: 0.0029 - val_loss: 0.0100\n",
            "Epoch 63/100\n",
            "611/611 [==============================] - 9s 14ms/step - loss: 0.0030 - val_loss: 0.0105\n",
            "Epoch 64/100\n",
            "611/611 [==============================] - 9s 14ms/step - loss: 0.0029 - val_loss: 0.0111\n",
            "Epoch 65/100\n",
            "611/611 [==============================] - 9s 14ms/step - loss: 0.0030 - val_loss: 0.0094\n",
            "Epoch 66/100\n",
            "611/611 [==============================] - 9s 14ms/step - loss: 0.0029 - val_loss: 0.0110\n",
            "Epoch 67/100\n",
            "611/611 [==============================] - 8s 14ms/step - loss: 0.0030 - val_loss: 0.0107\n",
            "Epoch 68/100\n",
            "611/611 [==============================] - 9s 14ms/step - loss: 0.0029 - val_loss: 0.0105\n",
            "Epoch 69/100\n",
            "611/611 [==============================] - 8s 14ms/step - loss: 0.0030 - val_loss: 0.0111\n",
            "Epoch 70/100\n",
            "611/611 [==============================] - 8s 14ms/step - loss: 0.0029 - val_loss: 0.0100\n",
            "Epoch 71/100\n",
            "611/611 [==============================] - 8s 14ms/step - loss: 0.0029 - val_loss: 0.0101\n",
            "Epoch 72/100\n",
            "611/611 [==============================] - 8s 14ms/step - loss: 0.0029 - val_loss: 0.0093\n",
            "Epoch 73/100\n",
            "611/611 [==============================] - 8s 14ms/step - loss: 0.0030 - val_loss: 0.0101\n",
            "Epoch 74/100\n",
            "611/611 [==============================] - 8s 14ms/step - loss: 0.0029 - val_loss: 0.0102\n",
            "Epoch 75/100\n",
            "611/611 [==============================] - 8s 13ms/step - loss: 0.0029 - val_loss: 0.0108\n",
            "Epoch 76/100\n",
            "611/611 [==============================] - 8s 13ms/step - loss: 0.0029 - val_loss: 0.0114\n",
            "Epoch 77/100\n",
            "611/611 [==============================] - 8s 14ms/step - loss: 0.0029 - val_loss: 0.0112\n",
            "Epoch 78/100\n",
            "611/611 [==============================] - 8s 13ms/step - loss: 0.0029 - val_loss: 0.0103\n",
            "Epoch 79/100\n",
            "611/611 [==============================] - 8s 13ms/step - loss: 0.0029 - val_loss: 0.0117\n",
            "Epoch 80/100\n",
            "611/611 [==============================] - 8s 13ms/step - loss: 0.0029 - val_loss: 0.0100\n",
            "Epoch 81/100\n",
            "611/611 [==============================] - 8s 13ms/step - loss: 0.0028 - val_loss: 0.0150\n",
            "Epoch 82/100\n",
            "611/611 [==============================] - 8s 13ms/step - loss: 0.0029 - val_loss: 0.0110\n",
            "Epoch 83/100\n",
            "611/611 [==============================] - 8s 14ms/step - loss: 0.0029 - val_loss: 0.0096\n",
            "Epoch 84/100\n",
            "611/611 [==============================] - 8s 13ms/step - loss: 0.0028 - val_loss: 0.0115\n",
            "Epoch 85/100\n",
            "611/611 [==============================] - 8s 13ms/step - loss: 0.0028 - val_loss: 0.0102\n",
            "Epoch 86/100\n",
            "611/611 [==============================] - 8s 13ms/step - loss: 0.0029 - val_loss: 0.0103\n",
            "Epoch 87/100\n",
            "611/611 [==============================] - 8s 14ms/step - loss: 0.0028 - val_loss: 0.0118\n",
            "Epoch 88/100\n",
            "611/611 [==============================] - 8s 14ms/step - loss: 0.0029 - val_loss: 0.0097\n",
            "Epoch 89/100\n",
            "611/611 [==============================] - 9s 14ms/step - loss: 0.0028 - val_loss: 0.0099\n",
            "Epoch 90/100\n",
            "611/611 [==============================] - 8s 14ms/step - loss: 0.0028 - val_loss: 0.0101\n",
            "Epoch 91/100\n",
            "611/611 [==============================] - 8s 14ms/step - loss: 0.0028 - val_loss: 0.0113\n",
            "Epoch 92/100\n",
            "611/611 [==============================] - 8s 14ms/step - loss: 0.0028 - val_loss: 0.0130\n",
            "Epoch 93/100\n",
            "611/611 [==============================] - 8s 14ms/step - loss: 0.0028 - val_loss: 0.0104\n",
            "Epoch 94/100\n",
            "611/611 [==============================] - 9s 14ms/step - loss: 0.0028 - val_loss: 0.0109\n",
            "Epoch 95/100\n",
            "611/611 [==============================] - 8s 14ms/step - loss: 0.0028 - val_loss: 0.0101\n",
            "Epoch 96/100\n",
            "611/611 [==============================] - 8s 14ms/step - loss: 0.0028 - val_loss: 0.0118\n",
            "Epoch 97/100\n",
            "611/611 [==============================] - 9s 14ms/step - loss: 0.0028 - val_loss: 0.0141\n",
            "Epoch 98/100\n",
            "611/611 [==============================] - 9s 14ms/step - loss: 0.0028 - val_loss: 0.0110\n",
            "Epoch 99/100\n",
            "611/611 [==============================] - 9s 15ms/step - loss: 0.0027 - val_loss: 0.0131\n",
            "Epoch 100/100\n",
            "611/611 [==============================] - 9s 14ms/step - loss: 0.0027 - val_loss: 0.0111\n"
          ],
          "name": "stdout"
        },
        {
          "output_type": "execute_result",
          "data": {
            "text/plain": [
              "<keras.callbacks.callbacks.History at 0x7fd30130c780>"
            ]
          },
          "metadata": {
            "tags": []
          },
          "execution_count": 25
        }
      ]
    },
    {
      "cell_type": "markdown",
      "metadata": {
        "id": "rDcsKX7MNRP9",
        "colab_type": "text"
      },
      "source": [
        "# Prediction"
      ]
    },
    {
      "cell_type": "code",
      "metadata": {
        "id": "FGK77OfwNRP-",
        "colab_type": "code",
        "colab": {
          "base_uri": "https://localhost:8080/",
          "height": 592
        },
        "outputId": "7cab80c5-8180-4be7-96ba-e077f038ba05"
      },
      "source": [
        "pred = model.predict(x_test)\n",
        "\n",
        "fig = plt.figure(facecolor='white', figsize=(20, 10))\n",
        "ax = fig.add_subplot(111)\n",
        "ax.plot(y_test, label='True')\n",
        "ax.plot(pred, label='Prediction')\n",
        "ax.legend()\n",
        "plt.show()"
      ],
      "execution_count": 27,
      "outputs": [
        {
          "output_type": "display_data",
          "data": {
            "image/png": "[encoded data removed]",
            "text/plain": [
              "<Figure size 1440x720 with 1 Axes>"
            ]
          },
          "metadata": {
            "tags": []
          }
        }
      ]
    },
    {
      "cell_type": "code",
      "metadata": {
        "id": "PYqCvA6_3Qyi",
        "colab_type": "code",
        "colab": {}
      },
      "source": [
        ""
      ],
      "execution_count": 0,
      "outputs": []
    }
  ]
}